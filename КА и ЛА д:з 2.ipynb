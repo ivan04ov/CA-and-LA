{
 "cells": [
  {
   "cell_type": "markdown",
   "id": "0a187024",
   "metadata": {},
   "source": [
    "Условие: https://disk.yandex.ru/i/GU-TAKhbutsdmw"
   ]
  },
  {
   "cell_type": "markdown",
   "id": "81427b16",
   "metadata": {},
   "source": [
    "### Задание 1"
   ]
  },
  {
   "cell_type": "code",
   "execution_count": 16,
   "id": "b6c2b377",
   "metadata": {},
   "outputs": [],
   "source": [
    "import numpy as np"
   ]
  },
  {
   "cell_type": "code",
   "execution_count": 28,
   "id": "7e316fb6",
   "metadata": {},
   "outputs": [],
   "source": [
    "data = np.loadtxt('brokering.txt', delimiter='\\t', skiprows=1)"
   ]
  },
  {
   "cell_type": "code",
   "execution_count": 29,
   "id": "9f04c36b",
   "metadata": {},
   "outputs": [
    {
     "data": {
      "text/plain": [
       "array([[ 2.27765086e+00],\n",
       "       [ 3.40164150e-01],\n",
       "       [ 3.17874146e-01],\n",
       "       [ 9.82429605e-01],\n",
       "       [-1.41332536e-03],\n",
       "       [-4.98891956e-02],\n",
       "       [-2.82390595e-02],\n",
       "       [-1.82454697e-01]])"
      ]
     },
     "execution_count": 29,
     "metadata": {},
     "output_type": "execute_result"
    }
   ],
   "source": [
    "X = data[:, 1 : 8]\n",
    "y = data[:, 0]\n",
    "y = y.reshape(-1, 1)\n",
    "X = np.hstack((np.ones((X.shape[0], 1)), X))\n",
    "\n",
    "#Решил провести все операции по очереди, чтобы не ошибиться\n",
    "first = X.T @ X\n",
    "second = np.linalg.inv(first)\n",
    "third = X.T @ y\n",
    "beta = second @ third\n",
    "beta"
   ]
  },
  {
   "cell_type": "markdown",
   "id": "24eab489",
   "metadata": {},
   "source": [
    "### Задание 2"
   ]
  },
  {
   "cell_type": "code",
   "execution_count": 30,
   "id": "0bfcf7f4",
   "metadata": {},
   "outputs": [
    {
     "data": {
      "text/plain": [
       "array([0.15604819, 0.11449745, 0.17014917, 0.1150158 , 0.1020865 ,\n",
       "       0.12936075, 0.00402014, 0.12240547])"
      ]
     },
     "execution_count": 30,
     "metadata": {},
     "output_type": "execute_result"
    }
   ],
   "source": [
    "#Вектор остатков\n",
    "e = y - X @ beta\n",
    "\n",
    "#Оценка дисперсии\n",
    "n = len(y)\n",
    "k = X.shape[1]\n",
    "sigsq = (e.T @ e) / (n - k) #Я не припомню, чтобы мы записывали эту формулу в явном виде, пришлось покопаться...\n",
    "\n",
    "#Ковариационная матрица и стандартная ошибка\n",
    "covmatrix = sigsq * np.linalg.inv(X.T @ X) #Вот об этом мы говорили на семинаре\n",
    "se = np.sqrt(np.diag(covmatrix))\n",
    "se"
   ]
  },
  {
   "cell_type": "markdown",
   "id": "e97c3d38",
   "metadata": {},
   "source": [
    "### Задание 3"
   ]
  },
  {
   "cell_type": "code",
   "execution_count": 19,
   "id": "00cee1cb",
   "metadata": {},
   "outputs": [],
   "source": [
    "import pandas as pd\n",
    "from statsmodels.formula.api import ols"
   ]
  },
  {
   "cell_type": "code",
   "execution_count": 22,
   "id": "5a235368",
   "metadata": {},
   "outputs": [
    {
     "data": {
      "text/html": [
       "<div>\n",
       "<style scoped>\n",
       "    .dataframe tbody tr th:only-of-type {\n",
       "        vertical-align: middle;\n",
       "    }\n",
       "\n",
       "    .dataframe tbody tr th {\n",
       "        vertical-align: top;\n",
       "    }\n",
       "\n",
       "    .dataframe thead th {\n",
       "        text-align: right;\n",
       "    }\n",
       "</style>\n",
       "<table border=\"1\" class=\"dataframe\">\n",
       "  <thead>\n",
       "    <tr style=\"text-align: right;\">\n",
       "      <th></th>\n",
       "      <th>dv</th>\n",
       "      <th>cs_connect</th>\n",
       "      <th>pol_connect</th>\n",
       "      <th>partmovmemb</th>\n",
       "      <th>gender</th>\n",
       "      <th>univ_educ</th>\n",
       "      <th>years_govreg</th>\n",
       "      <th>front_bure</th>\n",
       "      <th>region_code</th>\n",
       "    </tr>\n",
       "  </thead>\n",
       "  <tbody>\n",
       "    <tr>\n",
       "      <th>0</th>\n",
       "      <td>1.0</td>\n",
       "      <td>0</td>\n",
       "      <td>0</td>\n",
       "      <td>0</td>\n",
       "      <td>0</td>\n",
       "      <td>1</td>\n",
       "      <td>31</td>\n",
       "      <td>0</td>\n",
       "      <td>1</td>\n",
       "    </tr>\n",
       "    <tr>\n",
       "      <th>1</th>\n",
       "      <td>2.2</td>\n",
       "      <td>0</td>\n",
       "      <td>0</td>\n",
       "      <td>0</td>\n",
       "      <td>1</td>\n",
       "      <td>0</td>\n",
       "      <td>37</td>\n",
       "      <td>0</td>\n",
       "      <td>1</td>\n",
       "    </tr>\n",
       "    <tr>\n",
       "      <th>2</th>\n",
       "      <td>1.0</td>\n",
       "      <td>0</td>\n",
       "      <td>0</td>\n",
       "      <td>0</td>\n",
       "      <td>0</td>\n",
       "      <td>1</td>\n",
       "      <td>17</td>\n",
       "      <td>1</td>\n",
       "      <td>1</td>\n",
       "    </tr>\n",
       "    <tr>\n",
       "      <th>3</th>\n",
       "      <td>1.2</td>\n",
       "      <td>0</td>\n",
       "      <td>0</td>\n",
       "      <td>0</td>\n",
       "      <td>1</td>\n",
       "      <td>1</td>\n",
       "      <td>6</td>\n",
       "      <td>0</td>\n",
       "      <td>1</td>\n",
       "    </tr>\n",
       "    <tr>\n",
       "      <th>4</th>\n",
       "      <td>1.0</td>\n",
       "      <td>0</td>\n",
       "      <td>0</td>\n",
       "      <td>0</td>\n",
       "      <td>1</td>\n",
       "      <td>1</td>\n",
       "      <td>3</td>\n",
       "      <td>0</td>\n",
       "      <td>1</td>\n",
       "    </tr>\n",
       "  </tbody>\n",
       "</table>\n",
       "</div>"
      ],
      "text/plain": [
       "    dv  cs_connect  pol_connect  partmovmemb  gender  univ_educ  years_govreg  \\\n",
       "0  1.0           0            0            0       0          1            31   \n",
       "1  2.2           0            0            0       1          0            37   \n",
       "2  1.0           0            0            0       0          1            17   \n",
       "3  1.2           0            0            0       1          1             6   \n",
       "4  1.0           0            0            0       1          1             3   \n",
       "\n",
       "   front_bure  region_code  \n",
       "0           0            1  \n",
       "1           0            1  \n",
       "2           1            1  \n",
       "3           0            1  \n",
       "4           0            1  "
      ]
     },
     "execution_count": 22,
     "metadata": {},
     "output_type": "execute_result"
    }
   ],
   "source": [
    "df = pd.read_csv(\"brokering.txt\", sep='\\t')\n",
    "df.head()"
   ]
  },
  {
   "cell_type": "code",
   "execution_count": 27,
   "id": "dd010583",
   "metadata": {},
   "outputs": [
    {
     "name": "stdout",
     "output_type": "stream",
     "text": [
      "                            OLS Regression Results                            \n",
      "==============================================================================\n",
      "Dep. Variable:                     dv   R-squared:                       0.176\n",
      "Model:                            OLS   Adj. R-squared:                  0.169\n",
      "Method:                 Least Squares   F-statistic:                     27.85\n",
      "Date:                Mon, 26 Feb 2024   Prob (F-statistic):           7.55e-35\n",
      "Time:                        20:48:05   Log-Likelihood:                -1660.8\n",
      "No. Observations:                 923   AIC:                             3338.\n",
      "Df Residuals:                     915   BIC:                             3376.\n",
      "Df Model:                           7                                         \n",
      "Covariance Type:            nonrobust                                         \n",
      "================================================================================\n",
      "                   coef    std err          t      P>|t|      [0.025      0.975]\n",
      "--------------------------------------------------------------------------------\n",
      "Intercept        2.2777      0.156     14.596      0.000       1.971       2.584\n",
      "cs_connect       0.3402      0.114      2.971      0.003       0.115       0.565\n",
      "pol_connect      0.3179      0.170      1.868      0.062      -0.016       0.652\n",
      "partmovmemb      0.9824      0.115      8.542      0.000       0.757       1.208\n",
      "gender          -0.0014      0.102     -0.014      0.989      -0.202       0.199\n",
      "univ_educ       -0.0499      0.129     -0.386      0.700      -0.304       0.204\n",
      "years_govreg    -0.0282      0.004     -7.024      0.000      -0.036      -0.020\n",
      "front_bure      -0.1825      0.122     -1.491      0.136      -0.423       0.058\n",
      "==============================================================================\n",
      "Omnibus:                      153.514   Durbin-Watson:                   1.923\n",
      "Prob(Omnibus):                  0.000   Jarque-Bera (JB):              234.407\n",
      "Skew:                           1.141   Prob(JB):                     1.26e-51\n",
      "Kurtosis:                       3.941   Cond. No.                         75.0\n",
      "==============================================================================\n",
      "\n",
      "Notes:\n",
      "[1] Standard Errors assume that the covariance matrix of the errors is correctly specified.\n"
     ]
    }
   ],
   "source": [
    "mod01 = ols(\"dv ~ cs_connect + pol_connect + partmovmemb + gender + univ_educ + years_govreg + front_bure\", df).fit()\n",
    "print(mod01.summary())"
   ]
  },
  {
   "cell_type": "markdown",
   "id": "3fcf47f4",
   "metadata": {},
   "source": [
    "#### Вывод: "
   ]
  },
  {
   "cell_type": "markdown",
   "id": "a7aa8d0e",
   "metadata": {},
   "source": [
    "Полученные результаты в пп. 1-2 очень похожи на результаты ols из statsmodels. Подозреваю, что эта функция делает те же самые операции. "
   ]
  }
 ],
 "metadata": {
  "kernelspec": {
   "display_name": "Python 3 (ipykernel)",
   "language": "python",
   "name": "python3"
  },
  "language_info": {
   "codemirror_mode": {
    "name": "ipython",
    "version": 3
   },
   "file_extension": ".py",
   "mimetype": "text/x-python",
   "name": "python",
   "nbconvert_exporter": "python",
   "pygments_lexer": "ipython3",
   "version": "3.9.13"
  }
 },
 "nbformat": 4,
 "nbformat_minor": 5
}
