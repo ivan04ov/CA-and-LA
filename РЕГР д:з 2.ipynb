{
 "cells": [
  {
   "cell_type": "markdown",
   "metadata": {},
   "source": [
    "## Введение в регрессионный анализ<br>Домашнее задание №2"
   ]
  },
  {
   "cell_type": "markdown",
   "metadata": {},
   "source": [
    "Задание выполнил(а): **Овчаров Иван, БПТ-222**"
   ]
  },
  {
   "cell_type": "markdown",
   "metadata": {},
   "source": [
    "### Формат сдачи\n",
    "\n",
    "В текущий ipynb-файл необходимо вписать решения (код и текст с интерпретацией), сохранить изменения, а затем загрузить файл в папку на Dropbox по ссылке на странице курса. Аккаунт Dropbox для этого не требуется.\n",
    "\n",
    "Текст с интерпретацией должен быть в отдельных ячейках типа *Markdown*, не в виде комментариев к коду, ячейки с текстом должны быть аккуратно оформлены.\n",
    "\n",
    "Всего за задание можно получить 20 баллов."
   ]
  },
  {
   "cell_type": "markdown",
   "metadata": {},
   "source": [
    "### Задание\n",
    "\n",
    "В этом задании вам предлагается поработать с данными, используемыми в известном исследовании Д.Асемоглу, С.Джонсона и Д.Робинсона, посвящённом эффекту институтов на экономическое благополучие. \n",
    "\n",
    "#### Контекст исследования (на английском)\n",
    "\n",
    "D. Acemoglu, S. Johnson, and J. A. Robinson in the paper “The Colonial Origins of Comparative Development: An Empirical Investigation” (2001) evaluated the effect of institutions on economic performance. According to their theory, current economic performance of former colonies depends on the type of institutions europeans introduced during the process of colonization. The type of institutions, in its own turn, depends on natural conditions in a colony.\n",
    "\n",
    "If natural conditions in a colony were bad and caused diseases and higher mortality, europeans tended to set up ‘extractive states’ that was used only to transfer resources to the metropolitan country. In such cases colonizers did not develop high-quality institutions and thus, provided no protection for private property (Kongo). In colonies with good conditions europeans tried to settle more thoroughly and replicated European institutions with higher emphasis on the private property and the system of checks and balancies against government expropriation (Canada, New Zealand).\n",
    "\n",
    "#### Переменные в CSV-файле\n",
    "\n",
    "* `shortnam` : сокращённое название страны;\n",
    "* `logpgp95` : логарифм ВВП на душу населения в 1995 году;\n",
    "* `avexpr` : индекс защищенности от экспроприации государством частного иностранного финансирования, \n",
    "усредненное значение за 1985-1995 годы, принимает значение от 0 до 10, где более высокие значения соответствуют меньшему риску;\n",
    "* `lat_abst` : мера расстояния до экватора, абсолютное значение широты, переведенное в шкалу от 0 до 1, где 0 соответствует экватору;\n",
    "* `reg`: континент (Africa, America, Asia);\n",
    "* `africa`: бинарная переменная, где 1 соответствует странам Африки.\n",
    "* `asia`: бинарная переменная, где 1 соответствует странам Азии.\n",
    "\n",
    "Загрузите в Python данные из CSV-файла, и сохраните их в датафрейм `dat`. "
   ]
  },
  {
   "cell_type": "code",
   "execution_count": 1,
   "metadata": {},
   "outputs": [],
   "source": [
    "import pandas as pd\n",
    "\n",
    "dat = pd.read_csv('Овчаров Иван.csv')"
   ]
  },
  {
   "cell_type": "markdown",
   "metadata": {},
   "source": [
    "Чтобы добавить необходимые для дальнейшей работы столбцы `america` и `reg`, запустите следующую ячейку с кодом (работает, если датафрейм назвали `dat`, как написано выше):"
   ]
  },
  {
   "cell_type": "code",
   "execution_count": 2,
   "metadata": {},
   "outputs": [],
   "source": [
    "dat[\"america\"] = ((dat[\"africa\"] == 0) & (dat[\"asia\"] == 0)).astype(int)\n",
    "dat_bin = dat.loc[:, [\"africa\", \"asia\", \"america\"]]\n",
    "dat[\"reg\"] = dat_bin.apply(lambda x: dat_bin.columns[x.argmax()], \n",
    "                                               axis = 1).apply(lambda x: x.capitalize())"
   ]
  },
  {
   "cell_type": "code",
   "execution_count": 3,
   "metadata": {},
   "outputs": [
    {
     "data": {
      "text/html": [
       "<div>\n",
       "<style scoped>\n",
       "    .dataframe tbody tr th:only-of-type {\n",
       "        vertical-align: middle;\n",
       "    }\n",
       "\n",
       "    .dataframe tbody tr th {\n",
       "        vertical-align: top;\n",
       "    }\n",
       "\n",
       "    .dataframe thead th {\n",
       "        text-align: right;\n",
       "    }\n",
       "</style>\n",
       "<table border=\"1\" class=\"dataframe\">\n",
       "  <thead>\n",
       "    <tr style=\"text-align: right;\">\n",
       "      <th></th>\n",
       "      <th>Unnamed: 0.1</th>\n",
       "      <th>index</th>\n",
       "      <th>Unnamed: 0</th>\n",
       "      <th>shortnam</th>\n",
       "      <th>africa</th>\n",
       "      <th>asia</th>\n",
       "      <th>lat_abst</th>\n",
       "      <th>avexpr</th>\n",
       "      <th>logpgp95</th>\n",
       "      <th>america</th>\n",
       "      <th>reg</th>\n",
       "    </tr>\n",
       "  </thead>\n",
       "  <tbody>\n",
       "    <tr>\n",
       "      <th>0</th>\n",
       "      <td>0</td>\n",
       "      <td>35</td>\n",
       "      <td>35</td>\n",
       "      <td>JOR</td>\n",
       "      <td>0</td>\n",
       "      <td>1</td>\n",
       "      <td>0.344444</td>\n",
       "      <td>6.772727</td>\n",
       "      <td>8.171882</td>\n",
       "      <td>0</td>\n",
       "      <td>Asia</td>\n",
       "    </tr>\n",
       "    <tr>\n",
       "      <th>1</th>\n",
       "      <td>1</td>\n",
       "      <td>11</td>\n",
       "      <td>11</td>\n",
       "      <td>CHL</td>\n",
       "      <td>0</td>\n",
       "      <td>0</td>\n",
       "      <td>0.333333</td>\n",
       "      <td>7.818182</td>\n",
       "      <td>9.336092</td>\n",
       "      <td>1</td>\n",
       "      <td>America</td>\n",
       "    </tr>\n",
       "    <tr>\n",
       "      <th>2</th>\n",
       "      <td>2</td>\n",
       "      <td>13</td>\n",
       "      <td>13</td>\n",
       "      <td>CIV</td>\n",
       "      <td>1</td>\n",
       "      <td>0</td>\n",
       "      <td>0.088889</td>\n",
       "      <td>7.000000</td>\n",
       "      <td>7.444249</td>\n",
       "      <td>0</td>\n",
       "      <td>Africa</td>\n",
       "    </tr>\n",
       "    <tr>\n",
       "      <th>3</th>\n",
       "      <td>3</td>\n",
       "      <td>9</td>\n",
       "      <td>9</td>\n",
       "      <td>BWA</td>\n",
       "      <td>1</td>\n",
       "      <td>0</td>\n",
       "      <td>0.244444</td>\n",
       "      <td>7.727273</td>\n",
       "      <td>8.855093</td>\n",
       "      <td>0</td>\n",
       "      <td>Africa</td>\n",
       "    </tr>\n",
       "    <tr>\n",
       "      <th>4</th>\n",
       "      <td>4</td>\n",
       "      <td>63</td>\n",
       "      <td>63</td>\n",
       "      <td>SYR</td>\n",
       "      <td>0</td>\n",
       "      <td>1</td>\n",
       "      <td>0.388889</td>\n",
       "      <td>5.818182</td>\n",
       "      <td>8.029433</td>\n",
       "      <td>0</td>\n",
       "      <td>Asia</td>\n",
       "    </tr>\n",
       "    <tr>\n",
       "      <th>...</th>\n",
       "      <td>...</td>\n",
       "      <td>...</td>\n",
       "      <td>...</td>\n",
       "      <td>...</td>\n",
       "      <td>...</td>\n",
       "      <td>...</td>\n",
       "      <td>...</td>\n",
       "      <td>...</td>\n",
       "      <td>...</td>\n",
       "      <td>...</td>\n",
       "      <td>...</td>\n",
       "    </tr>\n",
       "    <tr>\n",
       "      <th>72</th>\n",
       "      <td>72</td>\n",
       "      <td>32</td>\n",
       "      <td>32</td>\n",
       "      <td>IRN</td>\n",
       "      <td>0</td>\n",
       "      <td>1</td>\n",
       "      <td>0.355556</td>\n",
       "      <td>4.772727</td>\n",
       "      <td>8.605204</td>\n",
       "      <td>0</td>\n",
       "      <td>Asia</td>\n",
       "    </tr>\n",
       "    <tr>\n",
       "      <th>73</th>\n",
       "      <td>73</td>\n",
       "      <td>25</td>\n",
       "      <td>25</td>\n",
       "      <td>GMB</td>\n",
       "      <td>1</td>\n",
       "      <td>0</td>\n",
       "      <td>0.147556</td>\n",
       "      <td>8.272727</td>\n",
       "      <td>7.272398</td>\n",
       "      <td>0</td>\n",
       "      <td>Africa</td>\n",
       "    </tr>\n",
       "    <tr>\n",
       "      <th>74</th>\n",
       "      <td>74</td>\n",
       "      <td>52</td>\n",
       "      <td>52</td>\n",
       "      <td>OMN</td>\n",
       "      <td>0</td>\n",
       "      <td>1</td>\n",
       "      <td>0.233333</td>\n",
       "      <td>7.136364</td>\n",
       "      <td>9.208339</td>\n",
       "      <td>0</td>\n",
       "      <td>Asia</td>\n",
       "    </tr>\n",
       "    <tr>\n",
       "      <th>75</th>\n",
       "      <td>75</td>\n",
       "      <td>41</td>\n",
       "      <td>41</td>\n",
       "      <td>MAR</td>\n",
       "      <td>1</td>\n",
       "      <td>0</td>\n",
       "      <td>0.355556</td>\n",
       "      <td>7.090909</td>\n",
       "      <td>8.042378</td>\n",
       "      <td>0</td>\n",
       "      <td>Africa</td>\n",
       "    </tr>\n",
       "    <tr>\n",
       "      <th>76</th>\n",
       "      <td>76</td>\n",
       "      <td>26</td>\n",
       "      <td>26</td>\n",
       "      <td>GTM</td>\n",
       "      <td>0</td>\n",
       "      <td>0</td>\n",
       "      <td>0.170000</td>\n",
       "      <td>5.136364</td>\n",
       "      <td>8.294049</td>\n",
       "      <td>1</td>\n",
       "      <td>America</td>\n",
       "    </tr>\n",
       "  </tbody>\n",
       "</table>\n",
       "<p>77 rows × 11 columns</p>\n",
       "</div>"
      ],
      "text/plain": [
       "    Unnamed: 0.1  index  Unnamed: 0 shortnam  africa  asia  lat_abst  \\\n",
       "0              0     35          35      JOR       0     1  0.344444   \n",
       "1              1     11          11      CHL       0     0  0.333333   \n",
       "2              2     13          13      CIV       1     0  0.088889   \n",
       "3              3      9           9      BWA       1     0  0.244444   \n",
       "4              4     63          63      SYR       0     1  0.388889   \n",
       "..           ...    ...         ...      ...     ...   ...       ...   \n",
       "72            72     32          32      IRN       0     1  0.355556   \n",
       "73            73     25          25      GMB       1     0  0.147556   \n",
       "74            74     52          52      OMN       0     1  0.233333   \n",
       "75            75     41          41      MAR       1     0  0.355556   \n",
       "76            76     26          26      GTM       0     0  0.170000   \n",
       "\n",
       "      avexpr  logpgp95  america      reg  \n",
       "0   6.772727  8.171882        0     Asia  \n",
       "1   7.818182  9.336092        1  America  \n",
       "2   7.000000  7.444249        0   Africa  \n",
       "3   7.727273  8.855093        0   Africa  \n",
       "4   5.818182  8.029433        0     Asia  \n",
       "..       ...       ...      ...      ...  \n",
       "72  4.772727  8.605204        0     Asia  \n",
       "73  8.272727  7.272398        0   Africa  \n",
       "74  7.136364  9.208339        0     Asia  \n",
       "75  7.090909  8.042378        0   Africa  \n",
       "76  5.136364  8.294049        1  America  \n",
       "\n",
       "[77 rows x 11 columns]"
      ]
     },
     "execution_count": 3,
     "metadata": {},
     "output_type": "execute_result"
    }
   ],
   "source": [
    "dat"
   ]
  },
  {
   "cell_type": "markdown",
   "metadata": {},
   "source": [
    "### Задание 1 (2 балла)\n",
    "\n",
    "Предположим, что нас интересует, какой эффект на экономическое благополучие, выраженное через логарифм ВВП на душу населения, оказывают:\n",
    "\n",
    "* защищенность от экспроприации государством частного иностранного финансирования;\n",
    "* расстояние до экватора (представленное в виде меры, предложенной авторами исследования). \n",
    "\n",
    "Чтобы это выяснить, необходимо построить модель **множественной линейной регрессии**.\n",
    "\n",
    "Используя возможности библиотеки `statsmodels`, постройте модель линейной регрессии, которая покажет характер связи между указанными показателями. В качестве результата выполнения этого задания:\n",
    "\n",
    "* приведите строки кода, необходимые для построения модели, и выдачу, полученную после оценки модели;\n",
    "* приведите краткое описание модели: какая переменная является зависимой, какие – независимыми."
   ]
  },
  {
   "cell_type": "code",
   "execution_count": 4,
   "metadata": {},
   "outputs": [
    {
     "data": {
      "text/html": [
       "<table class=\"simpletable\">\n",
       "<caption>OLS Regression Results</caption>\n",
       "<tr>\n",
       "  <th>Dep. Variable:</th>        <td>logpgp95</td>     <th>  R-squared:         </th> <td>   0.482</td>\n",
       "</tr>\n",
       "<tr>\n",
       "  <th>Model:</th>                   <td>OLS</td>       <th>  Adj. R-squared:    </th> <td>   0.468</td>\n",
       "</tr>\n",
       "<tr>\n",
       "  <th>Method:</th>             <td>Least Squares</td>  <th>  F-statistic:       </th> <td>   34.42</td>\n",
       "</tr>\n",
       "<tr>\n",
       "  <th>Date:</th>             <td>Sun, 15 Oct 2023</td> <th>  Prob (F-statistic):</th> <td>2.71e-11</td>\n",
       "</tr>\n",
       "<tr>\n",
       "  <th>Time:</th>                 <td>16:45:55</td>     <th>  Log-Likelihood:    </th> <td> -89.842</td>\n",
       "</tr>\n",
       "<tr>\n",
       "  <th>No. Observations:</th>      <td>    77</td>      <th>  AIC:               </th> <td>   185.7</td>\n",
       "</tr>\n",
       "<tr>\n",
       "  <th>Df Residuals:</th>          <td>    74</td>      <th>  BIC:               </th> <td>   192.7</td>\n",
       "</tr>\n",
       "<tr>\n",
       "  <th>Df Model:</th>              <td>     2</td>      <th>                     </th>     <td> </td>   \n",
       "</tr>\n",
       "<tr>\n",
       "  <th>Covariance Type:</th>      <td>nonrobust</td>    <th>                     </th>     <td> </td>   \n",
       "</tr>\n",
       "</table>\n",
       "<table class=\"simpletable\">\n",
       "<tr>\n",
       "      <td></td>         <th>coef</th>     <th>std err</th>      <th>t</th>      <th>P>|t|</th>  <th>[0.025</th>    <th>0.975]</th>  \n",
       "</tr>\n",
       "<tr>\n",
       "  <th>Intercept</th> <td>    4.6687</td> <td>    0.445</td> <td>   10.483</td> <td> 0.000</td> <td>    3.781</td> <td>    5.556</td>\n",
       "</tr>\n",
       "<tr>\n",
       "  <th>avexpr</th>    <td>    0.4726</td> <td>    0.071</td> <td>    6.620</td> <td> 0.000</td> <td>    0.330</td> <td>    0.615</td>\n",
       "</tr>\n",
       "<tr>\n",
       "  <th>lat_abst</th>  <td>    1.4901</td> <td>    0.726</td> <td>    2.052</td> <td> 0.044</td> <td>    0.043</td> <td>    2.937</td>\n",
       "</tr>\n",
       "</table>\n",
       "<table class=\"simpletable\">\n",
       "<tr>\n",
       "  <th>Omnibus:</th>       <td> 4.139</td> <th>  Durbin-Watson:     </th> <td>   2.712</td>\n",
       "</tr>\n",
       "<tr>\n",
       "  <th>Prob(Omnibus):</th> <td> 0.126</td> <th>  Jarque-Bera (JB):  </th> <td>   4.071</td>\n",
       "</tr>\n",
       "<tr>\n",
       "  <th>Skew:</th>          <td>-0.522</td> <th>  Prob(JB):          </th> <td>   0.131</td>\n",
       "</tr>\n",
       "<tr>\n",
       "  <th>Kurtosis:</th>      <td> 2.579</td> <th>  Cond. No.          </th> <td>    55.0</td>\n",
       "</tr>\n",
       "</table><br/><br/>Notes:<br/>[1] Standard Errors assume that the covariance matrix of the errors is correctly specified."
      ],
      "text/plain": [
       "<class 'statsmodels.iolib.summary.Summary'>\n",
       "\"\"\"\n",
       "                            OLS Regression Results                            \n",
       "==============================================================================\n",
       "Dep. Variable:               logpgp95   R-squared:                       0.482\n",
       "Model:                            OLS   Adj. R-squared:                  0.468\n",
       "Method:                 Least Squares   F-statistic:                     34.42\n",
       "Date:                Sun, 15 Oct 2023   Prob (F-statistic):           2.71e-11\n",
       "Time:                        16:45:55   Log-Likelihood:                -89.842\n",
       "No. Observations:                  77   AIC:                             185.7\n",
       "Df Residuals:                      74   BIC:                             192.7\n",
       "Df Model:                           2                                         \n",
       "Covariance Type:            nonrobust                                         \n",
       "==============================================================================\n",
       "                 coef    std err          t      P>|t|      [0.025      0.975]\n",
       "------------------------------------------------------------------------------\n",
       "Intercept      4.6687      0.445     10.483      0.000       3.781       5.556\n",
       "avexpr         0.4726      0.071      6.620      0.000       0.330       0.615\n",
       "lat_abst       1.4901      0.726      2.052      0.044       0.043       2.937\n",
       "==============================================================================\n",
       "Omnibus:                        4.139   Durbin-Watson:                   2.712\n",
       "Prob(Omnibus):                  0.126   Jarque-Bera (JB):                4.071\n",
       "Skew:                          -0.522   Prob(JB):                        0.131\n",
       "Kurtosis:                       2.579   Cond. No.                         55.0\n",
       "==============================================================================\n",
       "\n",
       "Notes:\n",
       "[1] Standard Errors assume that the covariance matrix of the errors is correctly specified.\n",
       "\"\"\""
      ]
     },
     "execution_count": 4,
     "metadata": {},
     "output_type": "execute_result"
    }
   ],
   "source": [
    "from statsmodels.formula.api import ols\n",
    "\n",
    "md1 = ols('logpgp95 ~ avexpr + lat_abst', dat).fit()\n",
    "md1.summary()"
   ]
  },
  {
   "cell_type": "markdown",
   "metadata": {},
   "source": [
    "**Объяснение:**\n",
    "\n",
    "`logpgp95` – зависимая переменная\n",
    "\n",
    "`avexpr` и `lat_abst` – независимые переменные"
   ]
  },
  {
   "cell_type": "markdown",
   "metadata": {},
   "source": [
    "### Задание 2 (3 балла)\n",
    "\n",
    "Проинтерпретируйте полученные результаты: \n",
    "\n",
    "* приведите интерпретацию оценки коэффициентов при каждой независимой переменной;\n",
    "* проверьте, можно ли считать оценку коэффициентов статистически значимыми на уровне значимости 1%;\n",
    "* запишите, какую долю дисперсии зависимой переменной объясняет построенная модель."
   ]
  },
  {
   "cell_type": "markdown",
   "metadata": {},
   "source": [
    "**Интерпретация оценок коэффициентов:**\n",
    "\n",
    "С увеличением значения индекса `avexpr` (который обозначает индекс защищенности от экспроприации) на 1 пункт (при прочих равных) значение логарфима ВВП (`logpgp95`) увеличивается на 0.4726. С увеличением значения индекса `lat_abst` (который является мерой расстояния до экватора) на 0,1 (при прочих равных) значение логарифма ВВП (`logpgp95`) увеличивается на 0.14901."
   ]
  },
  {
   "cell_type": "markdown",
   "metadata": {},
   "source": [
    "**Проверка статистической значимости:**\n",
    "\n",
    "Для уровня значимости a = 0.01 значение t-статистики при коэффициентах должно: \n",
    "\n",
    "$$\n",
    "{t} \\not\\subset [{-3},{3}]\n",
    "$$\n",
    "\n",
    "t-статистика переменной `avexpr` 6.620 $\\not\\subset [{-3},{3}]$, соответственно статистически значима \n",
    "\n",
    "t-статистика переменной `lat_abst` 2.052 $\\subset [{-3},{3}]$, соответственно статистически не значима"
   ]
  },
  {
   "cell_type": "markdown",
   "metadata": {},
   "source": [
    "**Доля дисперсии переменной:**\n",
    "\n",
    "Найдем значение ${R}^2$:"
   ]
  },
  {
   "cell_type": "code",
   "execution_count": 5,
   "metadata": {},
   "outputs": [
    {
     "name": "stdout",
     "output_type": "stream",
     "text": [
      "0.48191963241957947\n"
     ]
    }
   ],
   "source": [
    "print(md1.rsquared)"
   ]
  },
  {
   "cell_type": "markdown",
   "metadata": {},
   "source": [
    "Построенная модель объясняет ≈0.482 дисперсии зависимой переменной."
   ]
  },
  {
   "cell_type": "markdown",
   "metadata": {},
   "source": [
    "### Задание 3 (2 балла)\n",
    "\n",
    "Запишите уравнение модели (полноценное, со всеми необходимыми индексами и «крышечками»). Вычислите, чему равно, согласно полученной модели, среднее ожидаемое значение логарифма ВВП на душу населения для Бангладеш (код страны BGD).\n",
    "\n",
    "Характеристики Бангладеш:\n",
    "\n",
    "|   Unnamed: 0 | shortnam   |   africa |   asia |   lat_abst |   avexpr |   logpgp95 |\n",
    "|-------------:|:-----------|---------:|-------:|-----------:|---------:|-----------:|\n",
    "|            4 | BGD        |        0 |      1 |   0.266667 |  5.13636 |     6.8773 |\n"
   ]
  },
  {
   "cell_type": "markdown",
   "metadata": {},
   "source": [
    "**Уравнение модели:**\n",
    "\n",
    "$$\n",
    "\\widehat{\\text{logpgp95}}_i={4.6687} +{0.4726} \\times \\text{avexpr}_i + {1.4901} \\times \\text{lat_abst}_i.\n",
    "$$"
   ]
  },
  {
   "cell_type": "markdown",
   "metadata": {},
   "source": [
    "**Среднее ожидаемое значение для Бангладеша:**"
   ]
  },
  {
   "cell_type": "code",
   "execution_count": 10,
   "metadata": {
    "scrolled": true
   },
   "outputs": [
    {
     "name": "stdout",
     "output_type": "stream",
     "text": [
      "    Unnamed: 0.1  index  Unnamed: 0 shortnam  africa  asia  lat_abst  \\\n",
      "46            46      4           4      BGD       0     1  0.266667   \n",
      "\n",
      "      avexpr  logpgp95  america   reg  \n",
      "46  5.136364  6.877296        0  Asia  \n"
     ]
    }
   ],
   "source": [
    "print(dat[dat['shortnam'] == 'BGD'])"
   ]
  },
  {
   "cell_type": "code",
   "execution_count": 13,
   "metadata": {},
   "outputs": [
    {
     "name": "stdout",
     "output_type": "stream",
     "text": [
      "7.4935054138094195\n"
     ]
    }
   ],
   "source": [
    "print(4.6687 + 0.4726 * dat['avexpr'].values[46] + 1.4901 * dat['lat_abst'].values[46])"
   ]
  },
  {
   "cell_type": "markdown",
   "metadata": {},
   "source": [
    "### Задание 4 (2 балла)\n",
    "\n",
    "Объясните, можно ли считать переменную «защищенность от экспроприации государством» контрольной переменной в контексте данной модели. "
   ]
  },
  {
   "cell_type": "code",
   "execution_count": 16,
   "metadata": {},
   "outputs": [
    {
     "data": {
      "text/plain": [
       "PearsonRResult(statistic=0.38671180733616134, pvalue=0.0005126043878669478)"
      ]
     },
     "execution_count": 16,
     "metadata": {},
     "output_type": "execute_result"
    }
   ],
   "source": [
    "from scipy import stats\n",
    "\n",
    "stats.pearsonr(dat['lat_abst'], dat['avexpr'])"
   ]
  },
  {
   "cell_type": "markdown",
   "metadata": {},
   "source": [
    "«Контрольная переменная» – это та переменная, которая влияет и на зависимую, и на независимую переменную. Смею предположить, что в контексте данной модели контрольной переменной все же будет `lat_abst`."
   ]
  },
  {
   "cell_type": "markdown",
   "metadata": {},
   "source": [
    "### Задание 5 (4 балла)\n",
    "\n",
    "Добавьте в построенную модель переменную «континент». Приведите строки кода, необходимые для построения модели, выдачу, полученную после оценки модели и ответы на следующие вопросы.\n",
    "\n",
    "**5.1.(1 балл)** Какой континент был выбран Python в качестве базовой категории?\n",
    "\n",
    "**5.2. (2 балла)** Проинтерпретируйте коэффициент при `reg[T.Asia]`: объясните, что он содержательно означает и прокомментируйте, является ли оценка коэффициента значимо отличной от 0 на 5%-ном уровне значимости. \n",
    "\n",
    "**5.3. (1 балл)** Какая модель, текущая или построенная в задании №1, объясняет большую долю дисперсии зависимой переменной? Как вы думаете, почему так происходит?"
   ]
  },
  {
   "cell_type": "code",
   "execution_count": 17,
   "metadata": {},
   "outputs": [
    {
     "data": {
      "text/html": [
       "<table class=\"simpletable\">\n",
       "<caption>OLS Regression Results</caption>\n",
       "<tr>\n",
       "  <th>Dep. Variable:</th>        <td>logpgp95</td>     <th>  R-squared:         </th> <td>   0.605</td>\n",
       "</tr>\n",
       "<tr>\n",
       "  <th>Model:</th>                   <td>OLS</td>       <th>  Adj. R-squared:    </th> <td>   0.583</td>\n",
       "</tr>\n",
       "<tr>\n",
       "  <th>Method:</th>             <td>Least Squares</td>  <th>  F-statistic:       </th> <td>   27.60</td>\n",
       "</tr>\n",
       "<tr>\n",
       "  <th>Date:</th>             <td>Sun, 15 Oct 2023</td> <th>  Prob (F-statistic):</th> <td>6.70e-14</td>\n",
       "</tr>\n",
       "<tr>\n",
       "  <th>Time:</th>                 <td>17:44:56</td>     <th>  Log-Likelihood:    </th> <td> -79.378</td>\n",
       "</tr>\n",
       "<tr>\n",
       "  <th>No. Observations:</th>      <td>    77</td>      <th>  AIC:               </th> <td>   168.8</td>\n",
       "</tr>\n",
       "<tr>\n",
       "  <th>Df Residuals:</th>          <td>    72</td>      <th>  BIC:               </th> <td>   180.5</td>\n",
       "</tr>\n",
       "<tr>\n",
       "  <th>Df Model:</th>              <td>     4</td>      <th>                     </th>     <td> </td>   \n",
       "</tr>\n",
       "<tr>\n",
       "  <th>Covariance Type:</th>      <td>nonrobust</td>    <th>                     </th>     <td> </td>   \n",
       "</tr>\n",
       "</table>\n",
       "<table class=\"simpletable\">\n",
       "<tr>\n",
       "         <td></td>           <th>coef</th>     <th>std err</th>      <th>t</th>      <th>P>|t|</th>  <th>[0.025</th>    <th>0.975]</th>  \n",
       "</tr>\n",
       "<tr>\n",
       "  <th>Intercept</th>      <td>    4.7911</td> <td>    0.400</td> <td>   11.980</td> <td> 0.000</td> <td>    3.994</td> <td>    5.588</td>\n",
       "</tr>\n",
       "<tr>\n",
       "  <th>reg[T.America]</th> <td>    0.9734</td> <td>    0.209</td> <td>    4.655</td> <td> 0.000</td> <td>    0.557</td> <td>    1.390</td>\n",
       "</tr>\n",
       "<tr>\n",
       "  <th>reg[T.Asia]</th>    <td>    0.6368</td> <td>    0.209</td> <td>    3.054</td> <td> 0.003</td> <td>    0.221</td> <td>    1.052</td>\n",
       "</tr>\n",
       "<tr>\n",
       "  <th>avexpr</th>         <td>    0.3996</td> <td>    0.066</td> <td>    6.033</td> <td> 0.000</td> <td>    0.268</td> <td>    0.532</td>\n",
       "</tr>\n",
       "<tr>\n",
       "  <th>lat_abst</th>       <td>    0.9691</td> <td>    0.662</td> <td>    1.465</td> <td> 0.147</td> <td>   -0.350</td> <td>    2.288</td>\n",
       "</tr>\n",
       "</table>\n",
       "<table class=\"simpletable\">\n",
       "<tr>\n",
       "  <th>Omnibus:</th>       <td> 2.393</td> <th>  Durbin-Watson:     </th> <td>   2.665</td>\n",
       "</tr>\n",
       "<tr>\n",
       "  <th>Prob(Omnibus):</th> <td> 0.302</td> <th>  Jarque-Bera (JB):  </th> <td>   2.375</td>\n",
       "</tr>\n",
       "<tr>\n",
       "  <th>Skew:</th>          <td>-0.400</td> <th>  Prob(JB):          </th> <td>   0.305</td>\n",
       "</tr>\n",
       "<tr>\n",
       "  <th>Kurtosis:</th>      <td> 2.685</td> <th>  Cond. No.          </th> <td>    56.8</td>\n",
       "</tr>\n",
       "</table><br/><br/>Notes:<br/>[1] Standard Errors assume that the covariance matrix of the errors is correctly specified."
      ],
      "text/plain": [
       "<class 'statsmodels.iolib.summary.Summary'>\n",
       "\"\"\"\n",
       "                            OLS Regression Results                            \n",
       "==============================================================================\n",
       "Dep. Variable:               logpgp95   R-squared:                       0.605\n",
       "Model:                            OLS   Adj. R-squared:                  0.583\n",
       "Method:                 Least Squares   F-statistic:                     27.60\n",
       "Date:                Sun, 15 Oct 2023   Prob (F-statistic):           6.70e-14\n",
       "Time:                        17:44:56   Log-Likelihood:                -79.378\n",
       "No. Observations:                  77   AIC:                             168.8\n",
       "Df Residuals:                      72   BIC:                             180.5\n",
       "Df Model:                           4                                         \n",
       "Covariance Type:            nonrobust                                         \n",
       "==================================================================================\n",
       "                     coef    std err          t      P>|t|      [0.025      0.975]\n",
       "----------------------------------------------------------------------------------\n",
       "Intercept          4.7911      0.400     11.980      0.000       3.994       5.588\n",
       "reg[T.America]     0.9734      0.209      4.655      0.000       0.557       1.390\n",
       "reg[T.Asia]        0.6368      0.209      3.054      0.003       0.221       1.052\n",
       "avexpr             0.3996      0.066      6.033      0.000       0.268       0.532\n",
       "lat_abst           0.9691      0.662      1.465      0.147      -0.350       2.288\n",
       "==============================================================================\n",
       "Omnibus:                        2.393   Durbin-Watson:                   2.665\n",
       "Prob(Omnibus):                  0.302   Jarque-Bera (JB):                2.375\n",
       "Skew:                          -0.400   Prob(JB):                        0.305\n",
       "Kurtosis:                       2.685   Cond. No.                         56.8\n",
       "==============================================================================\n",
       "\n",
       "Notes:\n",
       "[1] Standard Errors assume that the covariance matrix of the errors is correctly specified.\n",
       "\"\"\""
      ]
     },
     "execution_count": 17,
     "metadata": {},
     "output_type": "execute_result"
    }
   ],
   "source": [
    "md2 = ols('logpgp95 ~ avexpr + lat_abst + reg', dat).fit()\n",
    "md2.summary()"
   ]
  },
  {
   "cell_type": "markdown",
   "metadata": {},
   "source": [
    "**5.1** В качестве базовой категории была выбрана Африка.\n",
    "\n",
    "**5.2** Если значение переменной `Reg[T.Asia]` равно 1, то (при прочих равных) значение логарифма увеличивается на 0.6338. `Reg[T.Asia]` – это dummy-переменная (бинарная, принимающая значения 0 и 1), которая показывает разницу значений логарифма ВВП между странами базовой категории (в нашем случае: странами Африки) и странами Азии."
   ]
  },
  {
   "cell_type": "code",
   "execution_count": 18,
   "metadata": {},
   "outputs": [
    {
     "name": "stdout",
     "output_type": "stream",
     "text": [
      "0.6052235994681527\n"
     ]
    }
   ],
   "source": [
    "print(md2.rsquared)"
   ]
  },
  {
   "cell_type": "markdown",
   "metadata": {},
   "source": [
    "**5.3** Текущая модель объясняет большую долю дисперсии зависимой переменной. Я думаю, что это связано с тем, что в текущей модели больше независимых переменных (через которые мы, собственно и пытаемся объяснить дисперсию). "
   ]
  },
  {
   "cell_type": "markdown",
   "metadata": {},
   "source": [
    "### Задание 6 (7 баллов)\n",
    "\n",
    "Постройте модель множественной линейной регрессии, которая позволяет оценить, каким образом экономическое благополучие зависит от удалённости от экватора с учётом того, что удалённость от экватора оказывает на экономическое благополучие разный эффект в зависимости от того, находится ли страна в Азии или нет. \n",
    "\n",
    "**(1 балл)** Приведите строки кода, необходимые для построения модели, выдачу, полученную после оценки модели и ответы на следующие вопросы.\n",
    "\n",
    "**6.1.(2 балла)** Запишите, чему равен предельный эффект удалённости от экватора для стран Азии.\n",
    "\n",
    "**6.2.(2 балла)** Проинтерпретируйте коэффициент при эффекте взаимодействия: объясните, что он содержательно означает. \n",
    "\n",
    "**6.3.(2 балла)** Можно ли считать, на 5%-ном уровне значимости, что удалённость от экватора оказывает различный эффект на экономическое благополучие в странах Азии и всех остальных странах? Обоснуйте свой ответ."
   ]
  },
  {
   "cell_type": "code",
   "execution_count": 21,
   "metadata": {},
   "outputs": [
    {
     "data": {
      "text/html": [
       "<table class=\"simpletable\">\n",
       "<caption>OLS Regression Results</caption>\n",
       "<tr>\n",
       "  <th>Dep. Variable:</th>        <td>logpgp95</td>     <th>  R-squared:         </th> <td>   0.265</td>\n",
       "</tr>\n",
       "<tr>\n",
       "  <th>Model:</th>                   <td>OLS</td>       <th>  Adj. R-squared:    </th> <td>   0.235</td>\n",
       "</tr>\n",
       "<tr>\n",
       "  <th>Method:</th>             <td>Least Squares</td>  <th>  F-statistic:       </th> <td>   8.767</td>\n",
       "</tr>\n",
       "<tr>\n",
       "  <th>Date:</th>             <td>Sun, 15 Oct 2023</td> <th>  Prob (F-statistic):</th> <td>4.87e-05</td>\n",
       "</tr>\n",
       "<tr>\n",
       "  <th>Time:</th>                 <td>18:08:45</td>     <th>  Log-Likelihood:    </th> <td> -103.31</td>\n",
       "</tr>\n",
       "<tr>\n",
       "  <th>No. Observations:</th>      <td>    77</td>      <th>  AIC:               </th> <td>   214.6</td>\n",
       "</tr>\n",
       "<tr>\n",
       "  <th>Df Residuals:</th>          <td>    73</td>      <th>  BIC:               </th> <td>   224.0</td>\n",
       "</tr>\n",
       "<tr>\n",
       "  <th>Df Model:</th>              <td>     3</td>      <th>                     </th>     <td> </td>   \n",
       "</tr>\n",
       "<tr>\n",
       "  <th>Covariance Type:</th>      <td>nonrobust</td>    <th>                     </th>     <td> </td>   \n",
       "</tr>\n",
       "</table>\n",
       "<table class=\"simpletable\">\n",
       "<tr>\n",
       "        <td></td>           <th>coef</th>     <th>std err</th>      <th>t</th>      <th>P>|t|</th>  <th>[0.025</th>    <th>0.975]</th>  \n",
       "</tr>\n",
       "<tr>\n",
       "  <th>Intercept</th>     <td>    7.1050</td> <td>    0.228</td> <td>   31.167</td> <td> 0.000</td> <td>    6.651</td> <td>    7.559</td>\n",
       "</tr>\n",
       "<tr>\n",
       "  <th>lat_abst</th>      <td>    4.2236</td> <td>    1.036</td> <td>    4.077</td> <td> 0.000</td> <td>    2.159</td> <td>    6.288</td>\n",
       "</tr>\n",
       "<tr>\n",
       "  <th>asia</th>          <td>    1.4122</td> <td>    0.482</td> <td>    2.932</td> <td> 0.004</td> <td>    0.452</td> <td>    2.372</td>\n",
       "</tr>\n",
       "<tr>\n",
       "  <th>lat_abst:asia</th> <td>   -4.0179</td> <td>    1.777</td> <td>   -2.261</td> <td> 0.027</td> <td>   -7.560</td> <td>   -0.476</td>\n",
       "</tr>\n",
       "</table>\n",
       "<table class=\"simpletable\">\n",
       "<tr>\n",
       "  <th>Omnibus:</th>       <td> 7.337</td> <th>  Durbin-Watson:     </th> <td>   2.491</td>\n",
       "</tr>\n",
       "<tr>\n",
       "  <th>Prob(Omnibus):</th> <td> 0.026</td> <th>  Jarque-Bera (JB):  </th> <td>   2.794</td>\n",
       "</tr>\n",
       "<tr>\n",
       "  <th>Skew:</th>          <td> 0.029</td> <th>  Prob(JB):          </th> <td>   0.247</td>\n",
       "</tr>\n",
       "<tr>\n",
       "  <th>Kurtosis:</th>      <td> 2.069</td> <th>  Cond. No.          </th> <td>    19.7</td>\n",
       "</tr>\n",
       "</table><br/><br/>Notes:<br/>[1] Standard Errors assume that the covariance matrix of the errors is correctly specified."
      ],
      "text/plain": [
       "<class 'statsmodels.iolib.summary.Summary'>\n",
       "\"\"\"\n",
       "                            OLS Regression Results                            \n",
       "==============================================================================\n",
       "Dep. Variable:               logpgp95   R-squared:                       0.265\n",
       "Model:                            OLS   Adj. R-squared:                  0.235\n",
       "Method:                 Least Squares   F-statistic:                     8.767\n",
       "Date:                Sun, 15 Oct 2023   Prob (F-statistic):           4.87e-05\n",
       "Time:                        18:08:45   Log-Likelihood:                -103.31\n",
       "No. Observations:                  77   AIC:                             214.6\n",
       "Df Residuals:                      73   BIC:                             224.0\n",
       "Df Model:                           3                                         \n",
       "Covariance Type:            nonrobust                                         \n",
       "=================================================================================\n",
       "                    coef    std err          t      P>|t|      [0.025      0.975]\n",
       "---------------------------------------------------------------------------------\n",
       "Intercept         7.1050      0.228     31.167      0.000       6.651       7.559\n",
       "lat_abst          4.2236      1.036      4.077      0.000       2.159       6.288\n",
       "asia              1.4122      0.482      2.932      0.004       0.452       2.372\n",
       "lat_abst:asia    -4.0179      1.777     -2.261      0.027      -7.560      -0.476\n",
       "==============================================================================\n",
       "Omnibus:                        7.337   Durbin-Watson:                   2.491\n",
       "Prob(Omnibus):                  0.026   Jarque-Bera (JB):                2.794\n",
       "Skew:                           0.029   Prob(JB):                        0.247\n",
       "Kurtosis:                       2.069   Cond. No.                         19.7\n",
       "==============================================================================\n",
       "\n",
       "Notes:\n",
       "[1] Standard Errors assume that the covariance matrix of the errors is correctly specified.\n",
       "\"\"\""
      ]
     },
     "execution_count": 21,
     "metadata": {},
     "output_type": "execute_result"
    }
   ],
   "source": [
    "md3 = ols('logpgp95 ~ lat_abst + asia + lat_abst * asia', dat).fit()\n",
    "md3.summary()"
   ]
  },
  {
   "cell_type": "markdown",
   "metadata": {},
   "source": [
    "**6.1** Предельный эффект удаленности от экватора для стран Азии равен -4.0179.\n",
    "\n",
    "**6.2** Коэффициент при эффекте взаимодействия показывает, как будет изменяться независимая переменная в зависимости от расстояния от экватора при условии, что страна находится в Азии. \n",
    "\n",
    "**6.3** Для уровня значимости a = 0.05 значение t-статистики при коэффициентах должно: \n",
    "\n",
    "$$\n",
    "{t} \\not\\subset [{-2},{2}]\n",
    "$$\n",
    "\n",
    "t-статистика переменной `lat_abst:asia` -2.261 $\\not\\subset [{-2},{2}]$, соответственно статистически значима \n"
   ]
  },
  {
   "cell_type": "code",
   "execution_count": null,
   "metadata": {},
   "outputs": [],
   "source": []
  }
 ],
 "metadata": {
  "kernelspec": {
   "display_name": "Python 3 (ipykernel)",
   "language": "python",
   "name": "python3"
  },
  "language_info": {
   "codemirror_mode": {
    "name": "ipython",
    "version": 3
   },
   "file_extension": ".py",
   "mimetype": "text/x-python",
   "name": "python",
   "nbconvert_exporter": "python",
   "pygments_lexer": "ipython3",
   "version": "3.9.13"
  }
 },
 "nbformat": 4,
 "nbformat_minor": 2
}
